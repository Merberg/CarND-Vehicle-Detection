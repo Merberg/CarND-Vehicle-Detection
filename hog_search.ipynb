{
 "cells": [
  {
   "cell_type": "markdown",
   "metadata": {},
   "source": [
    "# Histogram of Oriented Gradients Search #\n",
    "\n",
    "These functions extract HOG features from an image then sub-sample to get the overlaying windows. "
   ]
  },
  {
   "cell_type": "code",
   "execution_count": 2,
   "metadata": {
    "collapsed": true
   },
   "outputs": [],
   "source": [
    "import matplotlib.image as mpimg\n",
    "import matplotlib.pyplot as plt\n",
    "import numpy as np\n",
    "import cv2\n",
    "import glob\n",
    "import time\n",
    "from sklearn.svm import LinearSVC\n",
    "from sklearn.preprocessing import StandardScaler\n",
    "from skimage.feature import hog\n",
    "from sklearn.model_selection import train_test_split\n",
    "from plot_images import *\n",
    "from vehicle_features import *"
   ]
  },
  {
   "cell_type": "markdown",
   "metadata": {},
   "source": [
    "The function that can extract features using hog sub-sampling"
   ]
  },
  {
   "cell_type": "code",
   "execution_count": 3,
   "metadata": {
    "collapsed": true
   },
   "outputs": [],
   "source": [
    "def findCars(img, color_space_in, ystart, ystop, scale, svc, \n",
    "             hog_orient, hog_pix_per_cell, hog_cells_per_block, \n",
    "             spatial_size, hist_bins):\n",
    "    \n",
    "    imgDisplay = np.copy(img)\n",
    "    img = img.astype(np.float32)/255\n",
    "    \n",
    "    imgRoi = convertColorSpace(img[ystart:ystop,:,:], color_space_in)\n",
    "    if scale != 1:\n",
    "        imshape = imgRoi.shape\n",
    "        imgRoi = cv2.resize(imgRoi, (np.int(imshape[1]/scale), np.int(imshape[0]/scale)))\n",
    "        \n",
    "    ch1 = imgRoi[:,:,0]\n",
    "    ch2 = imgRoi[:,:,1]\n",
    "    ch3 = imgRoi[:,:,2]\n",
    "\n",
    "    # Define blocks and steps as above\n",
    "    n_xBlocks = (ch1.shape[1] // hog_pix_per_cell) - hog_cells_per_block + 1\n",
    "    n_yBlocks = (ch1.shape[0] // hog_pix_per_cell) - hog_cells_per_block + 1 \n",
    "    n_featuresPerBlock = n_orientationBins*hog_cells_per_block**2\n",
    "    \n",
    "    # 64 was the orginal sampling rate, with 8 cells and 8 pix per cell\n",
    "    window = 64\n",
    "    n_winBlocks = (window // hog_pix_per_cell) - hog_cells_per_block + 1\n",
    "    n_cellsPerStep = 2  # Instead of overlap, define how many cells to step\n",
    "    n_xSteps = (n_xBlocks - n_winBlocks) // n_cellsPerStep\n",
    "    n_ySteps = (n_yBlocks - n_winBlocks) // n_cellsPerStep\n",
    "    \n",
    "    # Compute individual channel HOG features for the entire image\n",
    "    hog1 = extractHog(ch1, hog_orient, hog_pix_per_cell, hog_cells_per_block)\n",
    "    hog2 = extractHog(ch2, hog_orient, hog_pix_per_cell, hog_cells_per_block)\n",
    "    hog3 = extractHog(ch3, hog_orient, hog_pix_per_cell, hog_cells_per_block)\n",
    "    \n",
    "    for xb in range(n_xSteps):\n",
    "        for yb in range(n_ySteps):\n",
    "            ypos = yb*n_cellsPerStep\n",
    "            xpos = xb*n_cellsPerStep\n",
    "            # Extract HOG for this patch\n",
    "            hogFeat1 = hog1[ypos:ypos+n_winBlocks, xpos:xpos+n_winBlocks].ravel() \n",
    "            hogFeat2 = hog2[ypos:ypos+n_winBlocks, xpos:xpos+n_winBlocks].ravel() \n",
    "            hogFeat3 = hog3[ypos:ypos+n_winBlocks, xpos:xpos+n_winBlocks].ravel() \n",
    "            hogFeatures = np.hstack((hogFeat1, hogFeat2, hogFeat3))\n",
    "\n",
    "            xleft = xpos*hog_pix_per_cell\n",
    "            ytop = ypos*hog_pix_per_cell\n",
    "\n",
    "            # Extract the image patch\n",
    "            imgSub = cv2.resize(imgRoi[ytop:ytop+window, xleft:xleft+window], (64,64))\n",
    "          \n",
    "            # Get color features\n",
    "            binColorFeatures = binColorsSpatially(imgSub, spatial_size)\n",
    "            histFeatures = computeColorHistogram(imgSub, hist_bins)\n",
    "\n",
    "            # Scale features and make a prediction\n",
    "            testFeatures = scaleFeatures([binColorFeatures, histFeatures, hogFeatures])\n",
    "            testPrediction = svc.predict(test_features)\n",
    "            \n",
    "            if testPrediction == 1:\n",
    "                xLeft = np.int(xleft*scale)\n",
    "                yTop = np.int(ytop*scale)\n",
    "                frame = np.int(window*scale)\n",
    "                cv2.rectangle(imgDisplay,(xLeft, yTop+ystart),\n",
    "                              (xLeft+frame,yTop+frame+ystart),(0,0,255),6) \n",
    "                \n",
    "    return imgDisplay"
   ]
  },
  {
   "cell_type": "code",
   "execution_count": 5,
   "metadata": {},
   "outputs": [
    {
     "ename": "NameError",
     "evalue": "name 'svc' is not defined",
     "output_type": "error",
     "traceback": [
      "\u001b[0;31m---------------------------------------------------------------------------\u001b[0m",
      "\u001b[0;31mNameError\u001b[0m                                 Traceback (most recent call last)",
      "\u001b[0;32m<ipython-input-5-a60913550a63>\u001b[0m in \u001b[0;36m<module>\u001b[0;34m()\u001b[0m\n\u001b[1;32m     27\u001b[0m \u001b[0mtestOutputs\u001b[0m \u001b[0;34m=\u001b[0m \u001b[0;34m[\u001b[0m\u001b[0;34m]\u001b[0m\u001b[0;34m\u001b[0m\u001b[0m\n\u001b[1;32m     28\u001b[0m \u001b[0;32mfor\u001b[0m \u001b[0mimg\u001b[0m \u001b[0;32min\u001b[0m \u001b[0mtestImages\u001b[0m\u001b[0;34m:\u001b[0m\u001b[0;34m\u001b[0m\u001b[0m\n\u001b[0;32m---> 29\u001b[0;31m     iOut = findCars(img, color_space_in, ystart, ystop, svc, \n\u001b[0m\u001b[1;32m     30\u001b[0m                     \u001b[0mhog_orient\u001b[0m\u001b[0;34m,\u001b[0m \u001b[0mhog_pix_per_cell\u001b[0m\u001b[0;34m,\u001b[0m \u001b[0mhog_cells_per_block\u001b[0m\u001b[0;34m,\u001b[0m\u001b[0;34m\u001b[0m\u001b[0m\n\u001b[1;32m     31\u001b[0m                     spatial_size, hist_bins)\n",
      "\u001b[0;31mNameError\u001b[0m: name 'svc' is not defined"
     ]
    }
   ],
   "source": [
    "def getTestingImages(pathname):\n",
    "    files = glob.glob(pathname)\n",
    "    images = []\n",
    "    for fname in files:\n",
    "        img = mpimg.imread(fname)\n",
    "        images.append(img)\n",
    "    return images\n",
    "\n",
    "testImages = getTestingImages('test_images/test*.jpg')  \n",
    "testTitles = []\n",
    "testCmap = []\n",
    "for i in range(0, len(testImages)):\n",
    "    testTitles.append(\"Test #{}\".format(i))\n",
    "    testCmap.append(None)\n",
    "   \n",
    "\n",
    "color_space_in = 'RGB'\n",
    "ystart = 400\n",
    "ystop = 656\n",
    "scale = 1.5\n",
    "hog_orient = 9 \n",
    "hog_pix_per_cell = 8 \n",
    "hog_cells_per_block = 2 \n",
    "spatial_size = 8\n",
    "hist_bins = 40\n",
    "    \n",
    "testOutputs = []\n",
    "for img in testImages:\n",
    "    iOut = findCars(img, color_space_in, ystart, ystop, svc, \n",
    "                    hog_orient, hog_pix_per_cell, hog_cells_per_block, \n",
    "                    spatial_size, hist_bins)\n",
    "    testOutputs.append(iOut)\n",
    "\n",
    "plotMany(2, 3, testOutputs, testTitles, testCmap)\n"
   ]
  }
 ],
 "metadata": {
  "kernelspec": {
   "display_name": "Python 3",
   "language": "python",
   "name": "python3"
  },
  "language_info": {
   "codemirror_mode": {
    "name": "ipython",
    "version": 3
   },
   "file_extension": ".py",
   "mimetype": "text/x-python",
   "name": "python",
   "nbconvert_exporter": "python",
   "pygments_lexer": "ipython3",
   "version": "3.5.2"
  },
  "widgets": {
   "state": {},
   "version": "1.1.2"
  }
 },
 "nbformat": 4,
 "nbformat_minor": 2
}
