{
 "cells": [
  {
   "cell_type": "markdown",
   "metadata": {},
   "source": [
    "# Vehicle Classifier #\n",
    "\n",
    "Creating the Linear Support Vector Machine that will be used for vehicle detection"
   ]
  },
  {
   "cell_type": "code",
   "execution_count": 1,
   "metadata": {},
   "outputs": [],
   "source": [
    "import matplotlib.image as mpimg\n",
    "import matplotlib.pyplot as plt\n",
    "import numpy as np\n",
    "import cv2\n",
    "import glob\n",
    "import time\n",
    "from sklearn.svm import LinearSVC\n",
    "from sklearn.model_selection import train_test_split\n",
    "from plot_images import *\n",
    "from vehicle_features import *"
   ]
  },
  {
   "cell_type": "markdown",
   "metadata": {},
   "source": [
    "## Preparing the Training Data ##\n",
    "\n",
    "The training data features are in the following order:\n",
    "1. HOG\n",
    "2. Color binning\n",
    "3. Color histogram"
   ]
  },
  {
   "cell_type": "code",
   "execution_count": 2,
   "metadata": {},
   "outputs": [
    {
     "name": "stdout",
     "output_type": "stream",
     "text": [
      "8968 not-car training images\n",
      "8792 car training images\n"
     ]
    }
   ],
   "source": [
    "def getTrainingImages(pathname):\n",
    "    files = glob.glob(pathname)\n",
    "    images = []\n",
    "    for fname in files:\n",
    "        img = mpimg.imread(fname)\n",
    "        images.append(img)\n",
    "    return images\n",
    "\n",
    "#Not Cars\n",
    "nots = getTrainingImages('training_images/non-vehicles/Extras/*.png')\n",
    "nots = nots+getTrainingImages('training_images/non-vehicles/GTI/*.png')\n",
    "print(\"{} not-car training images\".format(len(nots)))\n",
    "\n",
    "#Cars\n",
    "cars = getTrainingImages('training_images/vehicles/GTI_Far/*.png')\n",
    "cars = cars+getTrainingImages('training_images/vehicles/GTI_Left/*.png')\n",
    "cars = cars+getTrainingImages('training_images/vehicles/GTI_MiddleClose/*.png')\n",
    "cars = cars+getTrainingImages('training_images/vehicles/GTI_Right/*.png')\n",
    "cars = cars+getTrainingImages('training_images/vehicles/KITTI_extracted/*.png')\n",
    "print(\"{} car training images\".format(len(cars)))"
   ]
  },
  {
   "cell_type": "code",
   "execution_count": 3,
   "metadata": {},
   "outputs": [],
   "source": [
    "def extractImgFeatures(img, color_space_in, hog_orient, hog_pix_per_cell, \n",
    "                       hog_cells_per_block, spatial_size, hist_bins, \n",
    "                       vis, hog_channel):\n",
    "    # Extract the features from the image\n",
    "    img_features = []\n",
    "    imgC = convertColorSpace(img, color_space_in)\n",
    "\n",
    "    # First the HOG\n",
    "    if hog_channel == 'ALL':\n",
    "        hog_features = []\n",
    "        for channel in range(imgC.shape[2]):\n",
    "            hog = extractHog(imgC[:,:,channel], hog_orient, hog_pix_per_cell, \n",
    "                             hog_cells_per_block, vis=False, feature_vec=True)\n",
    "            hog_features.append(hog)\n",
    "        hog_features = np.ravel(hog_features)\n",
    "    else:\n",
    "        if vis == True:\n",
    "            hog_features, hog_image = extractHog(imgC[:,:,hog_channel], hog_orient, \n",
    "                                                 hog_pix_per_cell, hog_cells_per_block,\n",
    "                                                 vis=True, feature_vec=True)\n",
    "        else:\n",
    "            hog_features = extractHog(imgC[:,:,hog_channel], hog_orient, \n",
    "                                                 hog_pix_per_cell, hog_cells_per_block,\n",
    "                                                 vis=False, feature_vec=True)\n",
    "    img_features.append(hog_features)\n",
    "\n",
    "    # Second the color binning\n",
    "    spatial_features = binColorsSpatially(imgC, spatial_size)\n",
    "    img_features.append(spatial_features)\n",
    "\n",
    "    # Third the color histogram\n",
    "    hist_features = computeColorHistogram(imgC, hist_bins)\n",
    "    img_features.append(hist_features)\n",
    "\n",
    "    # Concatenate features and return\n",
    "    if vis == True:\n",
    "        return np.concatenate(img_features), hog_image\n",
    "    else:\n",
    "        return np.concatenate(img_features)\n",
    "    \n",
    "def extractFeatures(imgs, color_space_in, hog_orient, hog_pix_per_cell, \n",
    "                    hog_cells_per_block, spatial_size, hist_bins):\n",
    "    # Extract features from a list of images\n",
    "    features = []\n",
    "    for img in imgs:\n",
    "        img_features = extractImgFeatures(img, color_space_in, \n",
    "                                          hog_orient, hog_pix_per_cell, hog_cells_per_block,\n",
    "                                          spatial_size, hist_bins, \n",
    "                                          vis=False, hog_channel='ALL')\n",
    "        \n",
    "        # Concatenate features and append to the imgs' list\n",
    "        features.append(img_features)\n",
    "    return features\n"
   ]
  },
  {
   "cell_type": "code",
   "execution_count": 20,
   "metadata": {
    "collapsed": true
   },
   "outputs": [],
   "source": [
    "color_space_in = 'RGB'\n",
    "hog_orient = 9 \n",
    "hog_pix_per_cell = 8 \n",
    "hog_cells_per_block = 2 \n",
    "spatial_size = (24, 24)\n",
    "hist_bins = 40"
   ]
  },
  {
   "cell_type": "code",
   "execution_count": 21,
   "metadata": {},
   "outputs": [
    {
     "name": "stderr",
     "output_type": "stream",
     "text": [
      "/root/miniconda3/envs/carnd-term1/lib/python3.5/site-packages/skimage/feature/_hog.py:119: skimage_deprecation: Default value of `block_norm`==`L1` is deprecated and will be changed to `L2-Hys` in v0.15\n",
      "  'be changed to `L2-Hys` in v0.15', skimage_deprecation)\n"
     ]
    },
    {
     "data": {
      "image/png": "[encoded data removed]",
      "text/plain": [
       "<matplotlib.figure.Figure at 0x7fd4c6202a90>"
      ]
     },
     "metadata": {},
     "output_type": "display_data"
    }
   ],
   "source": [
    "car_idx = np.random.randint(0, len(cars))\n",
    "not_idx = np.random.randint(0, len(nots))\n",
    "\n",
    "car_features, car_hog = extractImgFeatures(cars[car_idx], color_space_in, hog_orient, \n",
    "                                           hog_pix_per_cell, hog_cells_per_block, \n",
    "                                           spatial_size, hist_bins, vis=True, hog_channel=0)\n",
    "not_features, not_hog = extractImgFeatures(nots[not_idx], color_space_in, hog_orient, \n",
    "                                           hog_pix_per_cell, hog_cells_per_block, \n",
    "                                           spatial_size, hist_bins, vis=True, hog_channel=0)\n",
    "\n",
    "plotMany(1,4, [cars[car_idx], car_hog, nots[not_idx], not_hog],\n",
    "         [\"Original {}\".format(car_idx),'HOG',\"Original {}\".format(not_idx), 'HOG'], \n",
    "         [None,None,None,None])"
   ]
  },
  {
   "cell_type": "code",
   "execution_count": 22,
   "metadata": {},
   "outputs": [
    {
     "name": "stderr",
     "output_type": "stream",
     "text": [
      "/root/miniconda3/envs/carnd-term1/lib/python3.5/site-packages/skimage/feature/_hog.py:119: skimage_deprecation: Default value of `block_norm`==`L1` is deprecated and will be changed to `L2-Hys` in v0.15\n",
      "  'be changed to `L2-Hys` in v0.15', skimage_deprecation)\n"
     ]
    }
   ],
   "source": [
    "#Extract the features\n",
    "notcar_features = extractFeatures(nots, color_space_in, hog_orient, \n",
    "                                  hog_pix_per_cell, hog_cells_per_block, \n",
    "                                  spatial_size, hist_bins)\n",
    "car_features = extractFeatures(cars, color_space_in, hog_orient, \n",
    "                               hog_pix_per_cell, hog_cells_per_block, \n",
    "                               spatial_size, hist_bins)\n",
    "\n",
    "# Column scaling for X\n",
    "X = np.vstack((car_features, notcar_features)).astype(np.float64)\n",
    "X_scaler = StandardScaler().fit(X)\n",
    "scaled_X = X_scaler.transform(X)\n",
    "\n",
    "# Y Labels (1 = car, 0 = notcar)\n",
    "y = np.hstack((np.ones(len(car_features)), np.zeros(len(notcar_features))))\n",
    "\n",
    "rand_state = np.random.randint(0,100)\n",
    "X_train, X_test, y_train, y_test = train_test_split(scaled_X, y, \n",
    "                                                    test_size=0.1, \n",
    "                                                    random_state=rand_state)"
   ]
  },
  {
   "cell_type": "markdown",
   "metadata": {},
   "source": [
    "## Training the SVC ##"
   ]
  },
  {
   "cell_type": "code",
   "execution_count": 19,
   "metadata": {},
   "outputs": [
    {
     "name": "stdout",
     "output_type": "stream",
     "text": [
      "Training classifier:\n",
      "\t* 8484 feature vectors\n",
      "\t* Duration 3.7967 seconds\n",
      "\t* Accuracy of 0.9893\n"
     ]
    }
   ],
   "source": [
    "svc = LinearSVC()\n",
    "\n",
    "# training with a \"stopwatch\" running\n",
    "t=time.time()\n",
    "svc.fit(X_train, y_train)\n",
    "\n",
    "print('Training classifier:')\n",
    "print(\"\\t* {} feature vectors\".format(len(X_train[0])))\n",
    "print(\"\\t* Duration {:.4f} seconds\".format(time.time()-t))\n",
    "print(\"\\t* Accuracy of {:.4f}\".format(svc.score(X_test, y_test)))"
   ]
  }
 ],
 "metadata": {
  "kernelspec": {
   "display_name": "Python 3",
   "language": "python",
   "name": "python3"
  },
  "language_info": {
   "codemirror_mode": {
    "name": "ipython",
    "version": 3
   },
   "file_extension": ".py",
   "mimetype": "text/x-python",
   "name": "python",
   "nbconvert_exporter": "python",
   "pygments_lexer": "ipython3",
   "version": "3.5.2"
  },
  "widgets": {
   "state": {},
   "version": "1.1.2"
  }
 },
 "nbformat": 4,
 "nbformat_minor": 2
}
